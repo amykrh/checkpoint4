{
 "cells": [
  {
   "cell_type": "code",
   "execution_count": 22,
   "id": "8d27a045",
   "metadata": {},
   "outputs": [
    {
     "name": "stdout",
     "output_type": "stream",
     "text": [
      "enter the first number2\n",
      "second one3\n",
      "third one6\n",
      "36\n"
     ]
    }
   ],
   "source": [
    "#exo1\n",
    "x=int(input(\"enter the first number\"))\n",
    "y=int(input(\"second one\"))\n",
    "l=int(input(\"third one\"))\n",
    "r=[x,y,l]\n",
    "r=x*y*l\n",
    "print(r)"
   ]
  },
  {
   "cell_type": "code",
   "execution_count": 12,
   "id": "cf6f7619",
   "metadata": {},
   "outputs": [
    {
     "name": "stdout",
     "output_type": "stream",
     "text": [
      "5\n",
      "2\n",
      "('5', '2')\n",
      "4\n",
      "3\n",
      "('4', '3')\n",
      "6\n",
      "1\n",
      "('6', '1')\n",
      "[('5', '2'), ('4', '3'), ('6', '1')]\n",
      "[('6', '1'), ('5', '2'), ('4', '3')]\n"
     ]
    }
   ],
   "source": [
    "#exo2\n",
    "# rlfsgbd are letters who present numbers entered by a user\n",
    "\n",
    "l=input()\n",
    "r=input()\n",
    "s=(l,r)\n",
    "print(s)\n",
    "b=input()\n",
    "d=input()\n",
    "s1=(b,d)\n",
    "print(s1)\n",
    "f=input()\n",
    "g=input()\n",
    "s2=(f,g)\n",
    "print(s2)\n",
    "n=[s,s1,s2]\n",
    "print(n)\n",
    "def last(n): return n[-1]\n",
    "def sort_list_last(n):\n",
    "  return sorted(n, key=last)\n",
    "print(sort_list_last(n))\n"
   ]
  },
  {
   "cell_type": "code",
   "execution_count": 16,
   "id": "9cab7a8c",
   "metadata": {},
   "outputs": [
    {
     "name": "stdout",
     "output_type": "stream",
     "text": [
      "{'a': 400, 'b': 400, 'd': 300, 'c': 400}\n"
     ]
    }
   ],
   "source": [
    "#question 3\n",
    "Mydict={}\n",
    "d1 = {'a': 100, 'b': 200, 'd':300}\n",
    "d2 = {'a': 300, 'b': 200, 'c':400}\n",
    "for key in d1:\n",
    "    if key in d2:\n",
    "        Mydict[key]=d1[key]+d2[key]\n",
    "    else:\n",
    "        Mydict[key]=d1[key]\n",
    "for key in d2:\n",
    "    if key not in d1:\n",
    "        Mydict[key]=d2[key]\n",
    "print(Mydict)"
   ]
  },
  {
   "cell_type": "code",
   "execution_count": 18,
   "id": "a316469a",
   "metadata": {},
   "outputs": [],
   "source": [
    "#pygame"
   ]
  },
  {
   "cell_type": "code",
   "execution_count": 21,
   "id": "4772101c",
   "metadata": {},
   "outputs": [
    {
     "name": "stdout",
     "output_type": "stream",
     "text": [
      "enter a number 5\n",
      "{1: 1, 2: 4, 3: 9, 4: 16, 5: 25}\n"
     ]
    }
   ],
   "source": [
    "def multiples(i):\n",
    "    s=i*i\n",
    "    return(s)\n",
    "    \n",
    "n=int(input(\"enter a number \"))\n",
    "dict={}\n",
    "for i in range (1,n+1):\n",
    "    dict[i]= multiples(i)\n",
    "print(dict)\n",
    "\n",
    "\n"
   ]
  },
  {
   "cell_type": "code",
   "execution_count": 22,
   "id": "1b28f127",
   "metadata": {},
   "outputs": [
    {
     "name": "stdout",
     "output_type": "stream",
     "text": [
      "number: 5\n",
      "{1: 1, 2: 4, 3: 9, 4: 16, 5: 25}\n"
     ]
    }
   ],
   "source": [
    "number = int(input(\"number: \")) #input to enter the number\n",
    "numberDict = {}\n",
    "for i in range(1, number+1):\n",
    "    numberDict[i] = i*i\n",
    "\n",
    "print(numberDict)"
   ]
  },
  {
   "cell_type": "code",
   "execution_count": 1,
   "id": "bc0f5253",
   "metadata": {},
   "outputs": [
    {
     "name": "stdout",
     "output_type": "stream",
     "text": [
      "[('item3', '24.5'), ('item2', '15.10'), ('item1', '12.20')]\n"
     ]
    }
   ],
   "source": [
    "price = [('item1', '12.20'), ('item2', '15.10'), ('item3', '24.5')]\n",
    "print( sorted(price, key=lambda x: float(x[1]), reverse=True))"
   ]
  },
  {
   "cell_type": "code",
   "execution_count": null,
   "id": "7c8281ba",
   "metadata": {},
   "outputs": [],
   "source": []
  }
 ],
 "metadata": {
  "kernelspec": {
   "display_name": "Python 3 (ipykernel)",
   "language": "python",
   "name": "python3"
  },
  "language_info": {
   "codemirror_mode": {
    "name": "ipython",
    "version": 3
   },
   "file_extension": ".py",
   "mimetype": "text/x-python",
   "name": "python",
   "nbconvert_exporter": "python",
   "pygments_lexer": "ipython3",
   "version": "3.9.7"
  }
 },
 "nbformat": 4,
 "nbformat_minor": 5
}
